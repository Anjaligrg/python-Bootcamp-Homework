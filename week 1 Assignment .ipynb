{
 "cells": [
  {
   "cell_type": "markdown",
   "id": "9472baac-cd87-4eba-950d-9f4a489cf827",
   "metadata": {},
   "source": [
    "#This notebook contains the basics of Python where we learned about lists, tuples, strings, and dictionaries. This notebook contains what we learned in week 1. "
   ]
  },
  {
   "cell_type": "markdown",
   "id": "80bb7421-0ee2-4c4b-a40e-23600dec726d",
   "metadata": {},
   "source": [
    "1. Scenario: You have a list of integers, and you need to find the maximum\n",
    "value in the list.\n",
    "a. Question: How would you find the maximum value from the\n",
    "following list?"
   ]
  },
  {
   "cell_type": "code",
   "execution_count": 1,
   "id": "03eff167-679b-44e0-afeb-e03e4a4c3b59",
   "metadata": {},
   "outputs": [
    {
     "data": {
      "text/plain": [
       "7"
      ]
     },
     "execution_count": 1,
     "metadata": {},
     "output_type": "execute_result"
    }
   ],
   "source": [
    "# create a list with numbers \n",
    "num = [1,2,3,4,5,6,7]\n",
    "max(num) # max is used for maximum "
   ]
  },
  {
   "cell_type": "markdown",
   "id": "ff243e72-848f-4aa3-851a-6c8200727bda",
   "metadata": {},
   "source": [
    "2. Scenario: You need to concatenate a list of strings into a single string,\n",
    "with each string separated by a comma.\n",
    "a. Question: How would you combine the following list of strings into\n",
    "a single string?"
   ]
  },
  {
   "cell_type": "code",
   "execution_count": 61,
   "id": "d2bf18af-9c9a-45c8-b9f8-9071a57b0923",
   "metadata": {},
   "outputs": [
    {
     "name": "stdout",
     "output_type": "stream",
     "text": [
      "I love Dogs\n"
     ]
    }
   ],
   "source": [
    "my_list = ['I', 'love', 'Dogs']\n",
    "separator = ' '  # seperator helps for the gap\n",
    "result = separator.join(my_list) # To concatenate separator and join is used \n",
    "print(result)\n"
   ]
  },
  {
   "cell_type": "markdown",
   "id": "395d7ba1-fdc5-4d2e-baf0-581936124d44",
   "metadata": {},
   "source": [
    "3. Scenario: You have a dictionary where the keys are names and the\n",
    "values are ages. You need to retrieve the age of a specific person.\n",
    "a. Question: How would you get the age of \"Dev\" from the following\n",
    "dictionary?"
   ]
  },
  {
   "cell_type": "code",
   "execution_count": 1,
   "id": "e9424415-01aa-40ec-af6a-407de229e205",
   "metadata": {},
   "outputs": [
    {
     "name": "stdout",
     "output_type": "stream",
     "text": [
      "30\n"
     ]
    }
   ],
   "source": [
    "#create a list with name and age \n",
    "mydict = { \"Name\": \"Dev\", \"Age\": \"30\"}\n",
    "x = mydict[\"Age\"] \n",
    "print(x)"
   ]
  },
  {
   "cell_type": "markdown",
   "id": "78a4342f-9ab1-4910-b1f1-2fb7cd3fc868",
   "metadata": {},
   "source": [
    "4. Scenario: You need to remove duplicate elements from a list while\n",
    "preserving the original order of elements.\n",
    "a. Question: How would you remove duplicates from the following\n",
    "list?"
   ]
  },
  {
   "cell_type": "code",
   "execution_count": 22,
   "id": "1c08b723-8f18-485f-a475-1158accdf62a",
   "metadata": {},
   "outputs": [
    {
     "data": {
      "text/plain": [
       "[1, 2, 3, 4, 5]"
      ]
     },
     "execution_count": 22,
     "metadata": {},
     "output_type": "execute_result"
    }
   ],
   "source": [
    "#Create a list with duplicate number \n",
    "num = [1,2,3,4,5,2,3]\n",
    "num[:5] # By slicing duplicate numbers are removed "
   ]
  },
  {
   "cell_type": "markdown",
   "id": "92a571c5-4af0-47dc-8b9f-913ecb62e85f",
   "metadata": {},
   "source": [
    "5. Scenario: You have a NumPy array and need to compute the sum of all\n",
    "its elements.\n",
    "a. Question: How would you find the sum of elements in the\n",
    "following NumPy array?"
   ]
  },
  {
   "cell_type": "code",
   "execution_count": 65,
   "id": "cc20da71-348f-4681-a805-3ff750356dd9",
   "metadata": {},
   "outputs": [
    {
     "data": {
      "text/plain": [
       "45"
      ]
     },
     "execution_count": 65,
     "metadata": {},
     "output_type": "execute_result"
    }
   ],
   "source": [
    "import numpy as np\n",
    "np.sum([1,2,3,4,5,6,7,8,9])"
   ]
  },
  {
   "cell_type": "markdown",
   "id": "8b757405-537e-4b79-b43f-889c50609bd7",
   "metadata": {},
   "source": [
    "6. Scenario: You have a 2D NumPy array and need to get the maximum\n",
    "value from each column.\n",
    "a. Question: How would you find the maximum values for each\n",
    "column in the following array?"
   ]
  },
  {
   "cell_type": "code",
   "execution_count": 40,
   "id": "d9328afa-56d1-4cdd-8694-9795d40dfed6",
   "metadata": {},
   "outputs": [
    {
     "data": {
      "text/plain": [
       "array([ 5, 10])"
      ]
     },
     "execution_count": 40,
     "metadata": {},
     "output_type": "execute_result"
    }
   ],
   "source": [
    "# 2-D numpy array\n",
    "nd2 = np.array([[1,2,3,4,5], [6,7,8,9,10]])\n",
    "nd2 = np.amax(nd2, axis=1)\n",
    "nd2"
   ]
  },
  {
   "cell_type": "markdown",
   "id": "23758808-ee50-40ad-94d3-46dd4b8658f3",
   "metadata": {},
   "source": [
    "7. Scenario: You have a DataFrame and need to sort it by a specific column.\n",
    "a. Question: How would you sort the DataFrame by the \"Age\"\n",
    "column?"
   ]
  },
  {
   "cell_type": "code",
   "execution_count": null,
   "id": "15f50107-fd87-4e4e-b8c1-bed073fcb205",
   "metadata": {},
   "outputs": [],
   "source": [
    "df[\"Age\"]"
   ]
  },
  {
   "cell_type": "markdown",
   "id": "d3158f8b-4680-439a-9245-90fdd92c5d2c",
   "metadata": {},
   "source": [
    "8. Scenario: You need to calculate the total sum of a column in a\n",
    "DataFrame.\n",
    "a. Question: How would you find the sum of the \"Sales\" column?"
   ]
  },
  {
   "cell_type": "code",
   "execution_count": null,
   "id": "9cc0811f-670c-4546-b51e-d721be9d1c22",
   "metadata": {},
   "outputs": [],
   "source": [
    "# To sum we have to sum()\n",
    "Total_Sales = df[\"Sales\"].sum() \n",
    "print (df)"
   ]
  },
  {
   "cell_type": "markdown",
   "id": "94c378d1-5f48-4e62-9b4d-e0d1cb732b2b",
   "metadata": {},
   "source": [
    "9. Scenario: You need to check if a variable is of type int.\n",
    "a. Question: How would you verify if a variable x is an integer?"
   ]
  },
  {
   "cell_type": "code",
   "execution_count": 69,
   "id": "cca70e99-f7d2-4ffc-9abd-f5ac6f9cd86d",
   "metadata": {},
   "outputs": [
    {
     "name": "stdout",
     "output_type": "stream",
     "text": [
      "x is an integar\n"
     ]
    }
   ],
   "source": [
    "variable = \"x, y, z\"\n",
    "if \"x\" in variable:\n",
    "    print(\"x is an integar\")\n",
    "else:\n",
    "    print(\"x is not integar\")"
   ]
  },
  {
   "cell_type": "markdown",
   "id": "d1dff720-dd07-4626-85d4-aab54c80a452",
   "metadata": {},
   "source": [
    "10.Scenario: You have a list of mixed types and need to create separate lists\n",
    "for integers, floats, and strings.\n",
    "a. Question: How would you categorize the following mixed list into\n",
    "different types?"
   ]
  },
  {
   "cell_type": "code",
   "execution_count": 82,
   "id": "d2e2b033-a80e-45b2-9e41-9885910fad25",
   "metadata": {},
   "outputs": [
    {
     "name": "stdout",
     "output_type": "stream",
     "text": [
      "Integers: [1, 2]\n",
      "Floats: [0.1, 0.2]\n",
      "Strings: ['apple', 'berries', 'cherry']\n"
     ]
    }
   ],
   "source": [
    "mylist = ([1,2, 0.1, 0.2, 'apple', 'berries', 'cherry'])\n",
    "integers =[]\n",
    "floats =[]\n",
    "strings = []\n",
    " # Seperate through the mixed list \n",
    "for item in mylist:\n",
    "    if isinstance (item, int):  # isinstance if the item is integers\n",
    "        integers.append(item)\n",
    "    elif isinstance(item, float):  # isintegar if item is float \n",
    "        floats.append(item)\n",
    "    elif isinstance(item, str):  # isinstance if item is strings \n",
    "        strings.append(item)\n",
    "# Output the categorized lists\n",
    "print(\"Integers:\", integers)  \n",
    "print(\"Floats:\", floats)      \n",
    "print(\"Strings:\", strings)\n"
   ]
  },
  {
   "cell_type": "markdown",
   "id": "c9400274-0e0f-4f10-a032-61d3b519e6fe",
   "metadata": {},
   "source": [
    "11.Scenario: You are given a string of comma-separated numbers. You\n",
    "need to convert this string into a list of integers.\n",
    "a. Question: How would you achieve this conversion?"
   ]
  },
  {
   "cell_type": "code",
   "execution_count": 84,
   "id": "dd39e576-f46e-4266-a308-01819bf334e9",
   "metadata": {},
   "outputs": [
    {
     "name": "stdout",
     "output_type": "stream",
     "text": [
      "[1, 2, 3, 4, 5]\n"
     ]
    }
   ],
   "source": [
    "# Using a For Loop\n",
    "string_list = ['1', '2', '3', '4', '5']\n",
    "integer_list = []\n",
    "\n",
    "for s in string_list:\n",
    "    integer_list.append(int(s))\n",
    "\n",
    "print(integer_list)\n"
   ]
  },
  {
   "cell_type": "markdown",
   "id": "09bb7ce5-96a8-4151-9f83-4aaacdfe8536",
   "metadata": {},
   "source": [
    "12.Scenario: You need to reverse the words in a sentence while keeping the\n",
    "order of the words intact.\n",
    "a. Question: How would you reverse each word in the following\n",
    "sentence?"
   ]
  },
  {
   "cell_type": "code",
   "execution_count": 94,
   "id": "85191175-4f9f-46d0-a575-49836f8407f3",
   "metadata": {},
   "outputs": [
    {
     "name": "stdout",
     "output_type": "stream",
     "text": [
      "pizza love I\n"
     ]
    }
   ],
   "source": [
    "def reverse_words(string):\n",
    "  \n",
    "    # Split words in the given string\n",
    "    # and reverse the order\n",
    "    reversed_words = string.split()[::-1]\n",
    "    \n",
    "    # Join the reversed words into a \n",
    "    # single string\n",
    "    return \" \".join(reversed_words)\n",
    "\n",
    "# Input string\n",
    "string = \" I love pizza \"\n",
    "print(reverse_words(string))"
   ]
  },
  {
   "cell_type": "markdown",
   "id": "9e5e9d74-5f81-4d8c-8452-a1946383f054",
   "metadata": {},
   "source": [
    "13. Scenario: You need to combine two lists into a dictionary where the\n",
    "elements of the first list are keys and the elements of the second list are\n",
    "values.\n",
    "a. Question: How would you combine the following lists into a\n",
    "dictionary?"
   ]
  },
  {
   "cell_type": "code",
   "execution_count": 44,
   "id": "585d3e24-7dfa-49a2-8cc9-51be8eb5cd48",
   "metadata": {},
   "outputs": [
    {
     "data": {
      "text/plain": [
       "{'Dev': 22, 'Ajay': 24, 'Rohit': 34}"
      ]
     },
     "execution_count": 44,
     "metadata": {},
     "output_type": "execute_result"
    }
   ],
   "source": [
    "#To combine the list we use zip \n",
    "dict(zip(['Dev','Ajay', 'Rohit'], [22, 24, 34]))"
   ]
  },
  {
   "cell_type": "markdown",
   "id": "52cbf510-5c89-4223-9ee0-378505f02a86",
   "metadata": {},
   "source": [
    "14.Scenario: You are given a list of tuples where each tuple contains a name\n",
    "and an age. You need to sort this list by age.\n",
    "a. Question: How would you sort the following list of tuples by age?"
   ]
  },
  {
   "cell_type": "code",
   "execution_count": 96,
   "id": "ec70227a-843a-4387-a36b-ed8ffbb64af4",
   "metadata": {},
   "outputs": [
    {
     "name": "stdout",
     "output_type": "stream",
     "text": [
      "[('Rohit', 21), ('Ajay', 32), ('Dev', 34)]\n"
     ]
    }
   ],
   "source": [
    "people =  [('Dev',34), ('Rohit', 21), ('Ajay', 32)]\n",
    "#Sort the list of tuples by age (the second element in each tuple)\n",
    "sorted_people = sorted(people, key=lambda x: x[1])\n",
    "\n",
    "print(sorted_people)\n"
   ]
  },
  {
   "cell_type": "markdown",
   "id": "650c0cb1-a574-49f5-81c9-c32568f0bfb0",
   "metadata": {},
   "source": [
    "15.Scenario: You have a 2D NumPy array and need to calculate the mean\n",
    "value of each row.\n",
    "a. Question: How would you compute the mean value for each row\n",
    "in the following array?"
   ]
  },
  {
   "cell_type": "code",
   "execution_count": 86,
   "id": "10ff5055-8af1-4b2e-87df-25df48dd4374",
   "metadata": {},
   "outputs": [
    {
     "data": {
      "text/plain": [
       "array([3.5, 4.5, 5.5, 6.5, 7.5])"
      ]
     },
     "execution_count": 86,
     "metadata": {},
     "output_type": "execute_result"
    }
   ],
   "source": [
    "#To calculate a mean for a row we use axis 0 \n",
    "nd1 = np.array([[1,2,3,4,5], [6,7,8,9,10]])\n",
    "nd1 = np.mean(nd1, axis=0)\n",
    "nd1"
   ]
  },
  {
   "cell_type": "markdown",
   "id": "b77a2c28-0791-41be-a2b7-229c38b4c57f",
   "metadata": {},
   "source": [
    "16.Scenario: You need to create a NumPy array of size 10 filled with zeros,\n",
    "and then set the fifth element to 5.\n",
    "a. Question: How would you create and modify the array as\n",
    "described?"
   ]
  },
  {
   "cell_type": "code",
   "execution_count": 42,
   "id": "c84a73e1-f084-482d-b623-79575a266a92",
   "metadata": {},
   "outputs": [
    {
     "data": {
      "text/plain": [
       "array([0., 0., 0., 0., 0., 0., 0., 0., 0., 0.])"
      ]
     },
     "execution_count": 42,
     "metadata": {},
     "output_type": "execute_result"
    }
   ],
   "source": [
    "#create a numpy array with 10 zeros\n",
    "np.zeros(10)"
   ]
  },
  {
   "cell_type": "markdown",
   "id": "2ff6fd36-b38b-448b-bccf-59748d93abe6",
   "metadata": {},
   "source": [
    "17. Scenario: You have a DataFrame and need to find the median of a\n",
    "numeric column.\n",
    "a. Question: How would you find the median of the \"Scores\" column\n",
    "in the following DataFrame?"
   ]
  },
  {
   "cell_type": "code",
   "execution_count": null,
   "id": "4f75d01f-21b8-44a2-ab23-9eab6486ce24",
   "metadata": {},
   "outputs": [],
   "source": [
    "median_score = df['Scores'].median() # Use median() scores column \n",
    "print(median_score)"
   ]
  },
  {
   "cell_type": "markdown",
   "id": "44a51cc1-a196-49eb-8b64-ce680866db82",
   "metadata": {},
   "source": [
    "18.Scenario: You need to filter rows where the value in the \"Sales\" column\n",
    "is above 100 and then sort these rows by \"Date\" in descending order.\n",
    "a. Question: How would you filter and sort the DataFrame based on\n",
    "the given criteria?"
   ]
  },
  {
   "cell_type": "code",
   "execution_count": null,
   "id": "30530ded-83fa-4da6-b621-f1400dab4605",
   "metadata": {},
   "outputs": [],
   "source": [
    "# Filter rows where 'Sales' > 100\n",
    "filtered_df = df[df['Sales'] > 100]\n",
    "\n",
    "# Sort the filtered DataFrame by 'Date' in descending order\n",
    "sorted_filtered_df = filtered_df.sort_values(by='Date', ascending=False)\n",
    "\n",
    "print(sorted_filtered_df)"
   ]
  },
  {
   "cell_type": "markdown",
   "id": "3d893fc9-bf39-4fd9-be9b-5eae966bdbc9",
   "metadata": {},
   "source": [
    "19.Scenario: You have a string containing a number and need to convert it\n",
    "to an integer. Additionally, handle the case where the string might not\n",
    "represent a valid integer.\n",
    "a. Question: How would you safely convert the string \"42\" to an\n",
    "integer and handle invalid cases?"
   ]
  },
  {
   "cell_type": "code",
   "execution_count": null,
   "id": "8bd51541-eeb4-4fd2-acda-832245071a06",
   "metadata": {},
   "outputs": [],
   "source": []
  },
  {
   "cell_type": "markdown",
   "id": "509d44de-31bb-4b3b-8e52-f1418c418526",
   "metadata": {},
   "source": [
    "20.Scenario: You have a list containing different data types, and you want\n",
    "to separate out all the strings.\n",
    "a. Question: How would you extract all string elements from the\n",
    "following list?"
   ]
  },
  {
   "cell_type": "code",
   "execution_count": 92,
   "id": "a56e6519-066e-439d-8208-797f34d3d7d2",
   "metadata": {},
   "outputs": [
    {
     "name": "stdout",
     "output_type": "stream",
     "text": [
      "['python', 'Bootcamp']\n"
     ]
    }
   ],
   "source": [
    "data_types = [ 1, 2, \"python\", 50, \"Bootcamp\"] # Mixed data types\n",
    "strings = [item for item in data_types if isinstance(item, str)]  \n",
    "\n",
    "print(strings)"
   ]
  }
 ],
 "metadata": {
  "kernelspec": {
   "display_name": "Python 3 (ipykernel)",
   "language": "python",
   "name": "python3"
  },
  "language_info": {
   "codemirror_mode": {
    "name": "ipython",
    "version": 3
   },
   "file_extension": ".py",
   "mimetype": "text/x-python",
   "name": "python",
   "nbconvert_exporter": "python",
   "pygments_lexer": "ipython3",
   "version": "3.12.4"
  }
 },
 "nbformat": 4,
 "nbformat_minor": 5
}
